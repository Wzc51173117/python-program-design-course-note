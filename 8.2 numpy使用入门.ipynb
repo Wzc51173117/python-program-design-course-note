{
 "cells": [
  {
   "cell_type": "code",
   "execution_count": 1,
   "id": "de929798-558d-49dc-89a5-76a86b592fe8",
   "metadata": {},
   "outputs": [],
   "source": [
    "import numpy as np"
   ]
  },
  {
   "cell_type": "code",
   "execution_count": 2,
   "id": "036d3bfd-c256-4530-b72d-88ad01f2837e",
   "metadata": {},
   "outputs": [
    {
     "data": {
      "text/plain": [
       "'2.2.5'"
      ]
     },
     "execution_count": 2,
     "metadata": {},
     "output_type": "execute_result"
    }
   ],
   "source": [
    "np.__version__"
   ]
  },
  {
   "cell_type": "code",
   "execution_count": 3,
   "id": "611f0ea0-680b-4e4b-bb1c-4fb1c8aa4be3",
   "metadata": {
    "collapsed": true,
    "jupyter": {
     "outputs_hidden": true
    }
   },
   "outputs": [
    {
     "data": {
      "text/plain": [
       "['T',\n",
       " '__abs__',\n",
       " '__add__',\n",
       " '__and__',\n",
       " '__array__',\n",
       " '__array_finalize__',\n",
       " '__array_function__',\n",
       " '__array_interface__',\n",
       " '__array_namespace__',\n",
       " '__array_priority__',\n",
       " '__array_struct__',\n",
       " '__array_ufunc__',\n",
       " '__array_wrap__',\n",
       " '__bool__',\n",
       " '__buffer__',\n",
       " '__class__',\n",
       " '__class_getitem__',\n",
       " '__complex__',\n",
       " '__contains__',\n",
       " '__copy__',\n",
       " '__deepcopy__',\n",
       " '__delattr__',\n",
       " '__delitem__',\n",
       " '__dir__',\n",
       " '__divmod__',\n",
       " '__dlpack__',\n",
       " '__dlpack_device__',\n",
       " '__doc__',\n",
       " '__eq__',\n",
       " '__float__',\n",
       " '__floordiv__',\n",
       " '__format__',\n",
       " '__ge__',\n",
       " '__getattribute__',\n",
       " '__getitem__',\n",
       " '__getstate__',\n",
       " '__gt__',\n",
       " '__hash__',\n",
       " '__iadd__',\n",
       " '__iand__',\n",
       " '__ifloordiv__',\n",
       " '__ilshift__',\n",
       " '__imatmul__',\n",
       " '__imod__',\n",
       " '__imul__',\n",
       " '__index__',\n",
       " '__init__',\n",
       " '__init_subclass__',\n",
       " '__int__',\n",
       " '__invert__',\n",
       " '__ior__',\n",
       " '__ipow__',\n",
       " '__irshift__',\n",
       " '__isub__',\n",
       " '__iter__',\n",
       " '__itruediv__',\n",
       " '__ixor__',\n",
       " '__le__',\n",
       " '__len__',\n",
       " '__lshift__',\n",
       " '__lt__',\n",
       " '__matmul__',\n",
       " '__mod__',\n",
       " '__mul__',\n",
       " '__ne__',\n",
       " '__neg__',\n",
       " '__new__',\n",
       " '__or__',\n",
       " '__pos__',\n",
       " '__pow__',\n",
       " '__radd__',\n",
       " '__rand__',\n",
       " '__rdivmod__',\n",
       " '__reduce__',\n",
       " '__reduce_ex__',\n",
       " '__repr__',\n",
       " '__rfloordiv__',\n",
       " '__rlshift__',\n",
       " '__rmatmul__',\n",
       " '__rmod__',\n",
       " '__rmul__',\n",
       " '__ror__',\n",
       " '__rpow__',\n",
       " '__rrshift__',\n",
       " '__rshift__',\n",
       " '__rsub__',\n",
       " '__rtruediv__',\n",
       " '__rxor__',\n",
       " '__setattr__',\n",
       " '__setitem__',\n",
       " '__setstate__',\n",
       " '__sizeof__',\n",
       " '__str__',\n",
       " '__sub__',\n",
       " '__subclasshook__',\n",
       " '__truediv__',\n",
       " '__xor__',\n",
       " 'all',\n",
       " 'any',\n",
       " 'argmax',\n",
       " 'argmin',\n",
       " 'argpartition',\n",
       " 'argsort',\n",
       " 'astype',\n",
       " 'base',\n",
       " 'byteswap',\n",
       " 'choose',\n",
       " 'clip',\n",
       " 'compress',\n",
       " 'conj',\n",
       " 'conjugate',\n",
       " 'copy',\n",
       " 'ctypes',\n",
       " 'cumprod',\n",
       " 'cumsum',\n",
       " 'data',\n",
       " 'device',\n",
       " 'diagonal',\n",
       " 'dot',\n",
       " 'dtype',\n",
       " 'dump',\n",
       " 'dumps',\n",
       " 'fill',\n",
       " 'flags',\n",
       " 'flat',\n",
       " 'flatten',\n",
       " 'getfield',\n",
       " 'imag',\n",
       " 'item',\n",
       " 'itemset',\n",
       " 'itemsize',\n",
       " 'mT',\n",
       " 'max',\n",
       " 'mean',\n",
       " 'min',\n",
       " 'nbytes',\n",
       " 'ndim',\n",
       " 'newbyteorder',\n",
       " 'nonzero',\n",
       " 'partition',\n",
       " 'prod',\n",
       " 'ptp',\n",
       " 'put',\n",
       " 'ravel',\n",
       " 'real',\n",
       " 'repeat',\n",
       " 'reshape',\n",
       " 'resize',\n",
       " 'round',\n",
       " 'searchsorted',\n",
       " 'setfield',\n",
       " 'setflags',\n",
       " 'shape',\n",
       " 'size',\n",
       " 'sort',\n",
       " 'squeeze',\n",
       " 'std',\n",
       " 'strides',\n",
       " 'sum',\n",
       " 'swapaxes',\n",
       " 'take',\n",
       " 'to_device',\n",
       " 'tobytes',\n",
       " 'tofile',\n",
       " 'tolist',\n",
       " 'tostring',\n",
       " 'trace',\n",
       " 'transpose',\n",
       " 'var',\n",
       " 'view']"
      ]
     },
     "execution_count": 3,
     "metadata": {},
     "output_type": "execute_result"
    }
   ],
   "source": [
    "dir(np.ndarray)"
   ]
  },
  {
   "cell_type": "code",
   "execution_count": 4,
   "id": "6639ade3-b1ca-4b54-9fd7-8292b1164858",
   "metadata": {},
   "outputs": [
    {
     "data": {
      "text/plain": [
       "array([2, 3, 4])"
      ]
     },
     "execution_count": 4,
     "metadata": {},
     "output_type": "execute_result"
    }
   ],
   "source": [
    "origin_list = [2, 3, 4]\n",
    "a = np.array(origin_list)\n",
    "a"
   ]
  },
  {
   "cell_type": "code",
   "execution_count": 5,
   "id": "0343ae7f-7ea0-4365-8e84-df3ae6c7c28f",
   "metadata": {},
   "outputs": [
    {
     "name": "stdout",
     "output_type": "stream",
     "text": [
      "int64\n",
      "(3,)\n",
      "1\n"
     ]
    }
   ],
   "source": [
    "print(a.dtype)\n",
    "print(a.shape)\n",
    "print(a.ndim)"
   ]
  },
  {
   "cell_type": "code",
   "execution_count": 6,
   "id": "8a20f3ce-aa7b-4444-bb3b-64c9737c977b",
   "metadata": {},
   "outputs": [
    {
     "data": {
      "text/plain": [
       "array([2, 3, 4, 2, 3, 4, 2, 3, 4, 2, 3, 4, 2, 3, 4])"
      ]
     },
     "execution_count": 6,
     "metadata": {},
     "output_type": "execute_result"
    }
   ],
   "source": [
    "c = np.array(origin_list * 5)\n",
    "c"
   ]
  },
  {
   "cell_type": "code",
   "execution_count": 7,
   "id": "eb24e669-c6c9-4fd5-8e19-1c1addeccf71",
   "metadata": {},
   "outputs": [
    {
     "name": "stdout",
     "output_type": "stream",
     "text": [
      "[1.2 3.5 5.1]\n",
      "float64\n"
     ]
    }
   ],
   "source": [
    "c = np.array([1.2, 3.5, 5.1])\n",
    "print(c)\n",
    "print(c.dtype)"
   ]
  },
  {
   "cell_type": "code",
   "execution_count": 8,
   "id": "b7c18037-f2e3-469a-a321-19bdf0bd83be",
   "metadata": {},
   "outputs": [
    {
     "data": {
      "text/plain": [
       "array([[1.5, 2. , 3. ],\n",
       "       [4. , 5. , 6. ]])"
      ]
     },
     "execution_count": 8,
     "metadata": {},
     "output_type": "execute_result"
    }
   ],
   "source": [
    "b = np.array([[1.5, 2, 3], [4, 5, 6]])\n",
    "b"
   ]
  },
  {
   "cell_type": "code",
   "execution_count": 9,
   "id": "71aa77bc-0e95-4fbe-bea1-461b05c382a4",
   "metadata": {},
   "outputs": [
    {
     "name": "stdout",
     "output_type": "stream",
     "text": [
      "float64 (2, 3) 2\n"
     ]
    }
   ],
   "source": [
    "print(b.dtype, b.shape, b.ndim)"
   ]
  },
  {
   "cell_type": "code",
   "execution_count": 10,
   "id": "08e2e23e-fcec-4c43-a2a9-aff78ce5e44e",
   "metadata": {},
   "outputs": [
    {
     "data": {
      "text/plain": [
       "array([[1.+0.j, 2.+0.j],\n",
       "       [3.+0.j, 4.+0.j]])"
      ]
     },
     "execution_count": 10,
     "metadata": {},
     "output_type": "execute_result"
    }
   ],
   "source": [
    "c = np.array([[1, 2], [3, 4]], dtype=complex)\n",
    "c"
   ]
  },
  {
   "cell_type": "code",
   "execution_count": 11,
   "id": "33146c9d-261f-4033-aba2-e26597bf7842",
   "metadata": {},
   "outputs": [
    {
     "name": "stdout",
     "output_type": "stream",
     "text": [
      "complex128 (2, 2) 2\n"
     ]
    }
   ],
   "source": [
    "print(c.dtype, c.shape, c.ndim)"
   ]
  },
  {
   "cell_type": "code",
   "execution_count": 12,
   "id": "c8c8935b-e0e4-41ad-a96a-bdd024f6e77d",
   "metadata": {},
   "outputs": [
    {
     "data": {
      "text/plain": [
       "array([[0., 0., 0., 0.],\n",
       "       [0., 0., 0., 0.],\n",
       "       [0., 0., 0., 0.]])"
      ]
     },
     "execution_count": 12,
     "metadata": {},
     "output_type": "execute_result"
    }
   ],
   "source": [
    "np.zeros((3, 4))"
   ]
  },
  {
   "cell_type": "code",
   "execution_count": 13,
   "id": "010e304b-077c-4996-ac2c-6c43733d471a",
   "metadata": {},
   "outputs": [
    {
     "data": {
      "text/plain": [
       "array([[[1, 1, 1, 1],\n",
       "        [1, 1, 1, 1],\n",
       "        [1, 1, 1, 1]],\n",
       "\n",
       "       [[1, 1, 1, 1],\n",
       "        [1, 1, 1, 1],\n",
       "        [1, 1, 1, 1]]], dtype=int16)"
      ]
     },
     "execution_count": 13,
     "metadata": {},
     "output_type": "execute_result"
    }
   ],
   "source": [
    "np.ones((2, 3, 4), dtype=np.int16) "
   ]
  },
  {
   "cell_type": "code",
   "execution_count": 16,
   "id": "314dd4b3-3d93-400b-b042-3e5f6cc5d06e",
   "metadata": {},
   "outputs": [
    {
     "name": "stdout",
     "output_type": "stream",
     "text": [
      "[[1.5 2.  3. ]\n",
      " [4.  5.  6. ]]\n"
     ]
    }
   ],
   "source": [
    "temp = np.empty((2, 3))                     #未初始化，输出可能不同\n",
    "print(temp)"
   ]
  },
  {
   "cell_type": "code",
   "execution_count": 17,
   "id": "ab5a02a4-5f0a-4472-93ba-a2f798bb4a29",
   "metadata": {},
   "outputs": [
    {
     "data": {
      "text/plain": [
       "array([[5.2, 5.2, 5.2],\n",
       "       [5.2, 5.2, 5.2]])"
      ]
     },
     "execution_count": 17,
     "metadata": {},
     "output_type": "execute_result"
    }
   ],
   "source": [
    "np.full((2, 3), 5.2)"
   ]
  },
  {
   "cell_type": "code",
   "execution_count": 18,
   "id": "21af3eda-6bed-4bf8-abff-4c7e8c8ac2f3",
   "metadata": {},
   "outputs": [
    {
     "data": {
      "text/plain": [
       "array([[0., 0., 0.],\n",
       "       [0., 0., 0.]])"
      ]
     },
     "execution_count": 18,
     "metadata": {},
     "output_type": "execute_result"
    }
   ],
   "source": [
    "np.zeros_like(temp)"
   ]
  },
  {
   "cell_type": "code",
   "execution_count": 19,
   "id": "79db5f02-e5df-43c5-aed1-0ab6ed13ac9b",
   "metadata": {},
   "outputs": [
    {
     "data": {
      "text/plain": [
       "array([[1., 1., 1.],\n",
       "       [1., 1., 1.]])"
      ]
     },
     "execution_count": 19,
     "metadata": {},
     "output_type": "execute_result"
    }
   ],
   "source": [
    "np.ones_like(temp)"
   ]
  },
  {
   "cell_type": "code",
   "execution_count": 20,
   "id": "1f2e33e0-f3de-413e-af9b-16564050a85d",
   "metadata": {},
   "outputs": [
    {
     "data": {
      "text/plain": [
       "array([0, 1, 2, 3, 4, 5])"
      ]
     },
     "execution_count": 20,
     "metadata": {},
     "output_type": "execute_result"
    }
   ],
   "source": [
    "np.arange(6)"
   ]
  },
  {
   "cell_type": "code",
   "execution_count": 21,
   "id": "82d1a532-34ab-4d5a-b00a-6e13d4905125",
   "metadata": {},
   "outputs": [
    {
     "data": {
      "text/plain": [
       "array([10, 15, 20, 25])"
      ]
     },
     "execution_count": 21,
     "metadata": {},
     "output_type": "execute_result"
    }
   ],
   "source": [
    "np.arange(10, 30, 5)"
   ]
  },
  {
   "cell_type": "code",
   "execution_count": 22,
   "id": "005b2e6e-4e6b-429b-9a86-05c89324db2d",
   "metadata": {},
   "outputs": [
    {
     "data": {
      "text/plain": [
       "array([0. , 0.3, 0.6, 0.9, 1.2, 1.5, 1.8])"
      ]
     },
     "execution_count": 22,
     "metadata": {},
     "output_type": "execute_result"
    }
   ],
   "source": [
    "np.arange(0, 2, 0.3)"
   ]
  },
  {
   "cell_type": "code",
   "execution_count": 24,
   "id": "b719a24e-7369-4b37-b97b-21a36cf6a9c3",
   "metadata": {},
   "outputs": [
    {
     "data": {
      "text/plain": [
       "array([0.  , 0.25, 0.5 , 0.75, 1.  , 1.25, 1.5 , 1.75, 2.  ])"
      ]
     },
     "execution_count": 24,
     "metadata": {},
     "output_type": "execute_result"
    }
   ],
   "source": [
    "np.linspace(0, 2, 9) # 函数 linspace , 它接收我们想要的元素数量而不是步长作为参数\n",
    "# 输出9个数它们之间的距离相同"
   ]
  },
  {
   "cell_type": "code",
   "execution_count": 25,
   "id": "724bf6d3-c95b-4f12-a4c0-b32f07d07a7f",
   "metadata": {},
   "outputs": [
    {
     "data": {
      "text/plain": [
       "array([0.        , 0.12822827, 0.25645654, 0.38468481, 0.51291309,\n",
       "       0.64114136, 0.76936963, 0.8975979 , 1.02582617, 1.15405444,\n",
       "       1.28228272, 1.41051099, 1.53873926, 1.66696753, 1.7951958 ,\n",
       "       1.92342407, 2.05165235, 2.17988062, 2.30810889, 2.43633716,\n",
       "       2.56456543, 2.6927937 , 2.82102197, 2.94925025, 3.07747852,\n",
       "       3.20570679, 3.33393506, 3.46216333, 3.5903916 , 3.71861988,\n",
       "       3.84684815, 3.97507642, 4.10330469, 4.23153296, 4.35976123,\n",
       "       4.48798951, 4.61621778, 4.74444605, 4.87267432, 5.00090259,\n",
       "       5.12913086, 5.25735913, 5.38558741, 5.51381568, 5.64204395,\n",
       "       5.77027222, 5.89850049, 6.02672876, 6.15495704, 6.28318531])"
      ]
     },
     "execution_count": 25,
     "metadata": {},
     "output_type": "execute_result"
    }
   ],
   "source": [
    "from numpy import pi\n",
    "\n",
    "# 用于在很多点上求函数值\n",
    "np.linspace(0, 2*pi, 50)"
   ]
  },
  {
   "cell_type": "code",
   "execution_count": 32,
   "id": "7b06bfa5-38a3-4a1a-bc81-8b693982c0e8",
   "metadata": {},
   "outputs": [
    {
     "name": "stdout",
     "output_type": "stream",
     "text": [
      "[0 1 2 3 4 5]\n"
     ]
    }
   ],
   "source": [
    "a = np.arange(6)                        \n",
    "print(a)"
   ]
  },
  {
   "cell_type": "code",
   "execution_count": 33,
   "id": "85bd0814-a724-41b6-97ce-1ac31a6a01d9",
   "metadata": {},
   "outputs": [
    {
     "name": "stdout",
     "output_type": "stream",
     "text": [
      "[[ 0  1  2]\n",
      " [ 3  4  5]\n",
      " [ 6  7  8]\n",
      " [ 9 10 11]]\n"
     ]
    }
   ],
   "source": [
    "b = np.arange(12).reshape(4, 3)           # 2d array\n",
    "print(b)"
   ]
  },
  {
   "cell_type": "code",
   "execution_count": 34,
   "id": "b4bd87aa-62b9-43dd-8bae-d635796566fa",
   "metadata": {},
   "outputs": [
    {
     "name": "stdout",
     "output_type": "stream",
     "text": [
      "[[[ 0  1  2  3]\n",
      "  [ 4  5  6  7]\n",
      "  [ 8  9 10 11]]\n",
      "\n",
      " [[12 13 14 15]\n",
      "  [16 17 18 19]\n",
      "  [20 21 22 23]]]\n"
     ]
    }
   ],
   "source": [
    "c = np.arange(24).reshape(2, 3, 4)         # 3d array\n",
    "print(c)"
   ]
  },
  {
   "cell_type": "code",
   "execution_count": 35,
   "id": "d02ca729-8a83-43e5-9f22-f56ba39c5da4",
   "metadata": {},
   "outputs": [
    {
     "data": {
      "text/plain": [
       "array([20, 29, 38, 47])"
      ]
     },
     "execution_count": 35,
     "metadata": {},
     "output_type": "execute_result"
    }
   ],
   "source": [
    "a = np.array([20, 30, 40, 50])\n",
    "b = np.arange(4)\n",
    "c = a - b\n",
    "c"
   ]
  },
  {
   "cell_type": "code",
   "execution_count": 36,
   "id": "a5b32ede-3823-459c-81b8-7abec3b352a4",
   "metadata": {},
   "outputs": [
    {
     "data": {
      "text/plain": [
       "array([0, 1, 4, 9])"
      ]
     },
     "execution_count": 36,
     "metadata": {},
     "output_type": "execute_result"
    }
   ],
   "source": [
    "b**2"
   ]
  },
  {
   "cell_type": "code",
   "execution_count": 37,
   "id": "9b5bed5f-6f5b-4030-b8dc-7e6a1b0775a0",
   "metadata": {},
   "outputs": [
    {
     "data": {
      "text/plain": [
       "array([ 9.12945251, -9.88031624,  7.4511316 , -2.62374854])"
      ]
     },
     "execution_count": 37,
     "metadata": {},
     "output_type": "execute_result"
    }
   ],
   "source": [
    "10 * np.sin(a)"
   ]
  },
  {
   "cell_type": "code",
   "execution_count": 38,
   "id": "c61080bd-4fc1-41e9-bd81-3ed4d444e8ab",
   "metadata": {},
   "outputs": [
    {
     "data": {
      "text/plain": [
       "array([ True,  True, False, False])"
      ]
     },
     "execution_count": 38,
     "metadata": {},
     "output_type": "execute_result"
    }
   ],
   "source": [
    "# 使用不等号运算符, 会得到一个布尔型数组\n",
    "a < 35"
   ]
  },
  {
   "cell_type": "code",
   "execution_count": 39,
   "id": "94507295-229a-4ada-84fd-9732a5d512f8",
   "metadata": {},
   "outputs": [
    {
     "data": {
      "text/plain": [
       "array([20, 30])"
      ]
     },
     "execution_count": 39,
     "metadata": {},
     "output_type": "execute_result"
    }
   ],
   "source": [
    "a[a < 35]"
   ]
  },
  {
   "cell_type": "code",
   "execution_count": 41,
   "id": "49e5ca6f-274d-4c57-9ed7-8899905c07c0",
   "metadata": {},
   "outputs": [
    {
     "data": {
      "text/plain": [
       "array([ 2.,  8., 18.])"
      ]
     },
     "execution_count": 41,
     "metadata": {},
     "output_type": "execute_result"
    }
   ],
   "source": [
    "x = np.array([1.0, 2.0, 3.0])\n",
    "y = np.array([2.0, 4.0, 6.0])\n",
    "x * y"
   ]
  },
  {
   "cell_type": "code",
   "execution_count": 42,
   "id": "5a155db3-7a18-4aed-8ede-0d1b948415bc",
   "metadata": {},
   "outputs": [
    {
     "data": {
      "text/plain": [
       "array([0.5, 0.5, 0.5])"
      ]
     },
     "execution_count": 42,
     "metadata": {},
     "output_type": "execute_result"
    }
   ],
   "source": [
    "x / y"
   ]
  },
  {
   "cell_type": "code",
   "execution_count": 44,
   "id": "0639615a-92c5-452e-95cf-21130487faca",
   "metadata": {},
   "outputs": [
    {
     "data": {
      "text/plain": [
       "array([[2, 0],\n",
       "       [0, 4]])"
      ]
     },
     "execution_count": 44,
     "metadata": {},
     "output_type": "execute_result"
    }
   ],
   "source": [
    "# 与许多矩阵语言不同，乘法运算符 * 的运算在NumPy数组中是元素级别的。矩阵乘积可以使用 dot 函数或方法执行：\n",
    "A = np.array( [[1,1],\n",
    "               [0,1]] )\n",
    "B = np.array( [[2,0],\n",
    "               [3,4]] )\n",
    "A * B    "
   ]
  },
  {
   "cell_type": "code",
   "execution_count": 45,
   "id": "be0477ee-6af7-421d-8045-fd2cbc9d3efe",
   "metadata": {},
   "outputs": [
    {
     "data": {
      "text/plain": [
       "array([[5, 4],\n",
       "       [3, 4]])"
      ]
     },
     "execution_count": 45,
     "metadata": {},
     "output_type": "execute_result"
    }
   ],
   "source": [
    "A.dot(B)  "
   ]
  },
  {
   "cell_type": "code",
   "execution_count": 46,
   "id": "ebc79cd2-c04f-4133-8644-1f2b91859a54",
   "metadata": {},
   "outputs": [
    {
     "data": {
      "text/plain": [
       "array([[5, 4],\n",
       "       [3, 4]])"
      ]
     },
     "execution_count": 46,
     "metadata": {},
     "output_type": "execute_result"
    }
   ],
   "source": [
    "# 或者\n",
    "np.dot(A, B)  "
   ]
  },
  {
   "cell_type": "code",
   "execution_count": 47,
   "id": "5771a055-1643-4214-92c5-680988453c13",
   "metadata": {},
   "outputs": [
    {
     "data": {
      "text/plain": [
       "array([[3, 3, 3],\n",
       "       [3, 3, 3]])"
      ]
     },
     "execution_count": 47,
     "metadata": {},
     "output_type": "execute_result"
    }
   ],
   "source": [
    "a = np.ones((2, 3), dtype=int)\n",
    "a *= 3\n",
    "a"
   ]
  },
  {
   "cell_type": "code",
   "execution_count": 51,
   "id": "26099f1b-66cd-4ad4-baa3-0133966b8825",
   "metadata": {},
   "outputs": [
    {
     "data": {
      "text/plain": [
       "array([[3.00616991, 3.10400097, 3.89002911],\n",
       "       [3.25371207, 3.18019786, 3.96739898]])"
      ]
     },
     "execution_count": 51,
     "metadata": {},
     "output_type": "execute_result"
    }
   ],
   "source": [
    "b = np.random.random((2, 3)) # [0, 1)中取随机数\n",
    "b += a\n",
    "b"
   ]
  },
  {
   "cell_type": "code",
   "execution_count": 52,
   "id": "16531500-45bd-4a07-8b78-c1e68bdf64e1",
   "metadata": {},
   "outputs": [
    {
     "data": {
      "text/plain": [
       "dtype('float64')"
      ]
     },
     "execution_count": 52,
     "metadata": {},
     "output_type": "execute_result"
    }
   ],
   "source": [
    "a = np.linspace(0, pi, 3)\n",
    "a.dtype"
   ]
  },
  {
   "cell_type": "code",
   "execution_count": 53,
   "id": "ca6d062e-21d2-4ce0-b4d8-400604085026",
   "metadata": {},
   "outputs": [
    {
     "name": "stdout",
     "output_type": "stream",
     "text": [
      "[1.         2.57079633 4.14159265]\n",
      "float64\n"
     ]
    }
   ],
   "source": [
    "b = np.ones(3, dtype=np.int32)\n",
    "c = a + b\n",
    "print(c)\n",
    "print(c.dtype)"
   ]
  },
  {
   "cell_type": "code",
   "execution_count": 58,
   "id": "ff523c5c-b9de-450d-ab9f-e7b4676d3784",
   "metadata": {},
   "outputs": [
    {
     "data": {
      "text/plain": [
       "(array([[0.06523989, 0.20977829, 0.1495119 ],\n",
       "        [0.93234691, 0.30003305, 0.09771168]]),\n",
       " np.float64(1.7546217168356901),\n",
       " np.float64(0.06523988541094805),\n",
       " np.float64(0.93234691050959),\n",
       " np.int64(3))"
      ]
     },
     "execution_count": 58,
     "metadata": {},
     "output_type": "execute_result"
    }
   ],
   "source": [
    "a = np.random.random((2,3))\n",
    "a, a.sum(), a.min(), a.max(), a.argmax() # 返回数组最大值的索引"
   ]
  },
  {
   "cell_type": "code",
   "execution_count": 59,
   "id": "096562db-0cbb-44f1-b160-6090d1d86a18",
   "metadata": {},
   "outputs": [
    {
     "data": {
      "text/plain": [
       "array([[ 0,  1,  2,  3],\n",
       "       [ 4,  5,  6,  7],\n",
       "       [ 8,  9, 10, 11]])"
      ]
     },
     "execution_count": 59,
     "metadata": {},
     "output_type": "execute_result"
    }
   ],
   "source": [
    "b = np.arange(12).reshape(3, 4)\n",
    "b"
   ]
  },
  {
   "cell_type": "code",
   "execution_count": 60,
   "id": "920cf8dc-6046-4487-80d5-5f8055de5e67",
   "metadata": {},
   "outputs": [
    {
     "data": {
      "text/plain": [
       "array([12, 15, 18, 21])"
      ]
     },
     "execution_count": 60,
     "metadata": {},
     "output_type": "execute_result"
    }
   ],
   "source": [
    "b.sum(axis=0) "
   ]
  },
  {
   "cell_type": "code",
   "execution_count": 61,
   "id": "1187fd78-f995-4557-85c9-f6bd7c845716",
   "metadata": {},
   "outputs": [
    {
     "data": {
      "text/plain": [
       "array([ 6, 22, 38])"
      ]
     },
     "execution_count": 61,
     "metadata": {},
     "output_type": "execute_result"
    }
   ],
   "source": [
    "b.sum(axis=1)"
   ]
  },
  {
   "cell_type": "code",
   "execution_count": 62,
   "id": "6c9fe90f-cac7-4acc-87e3-f5b036cff25d",
   "metadata": {},
   "outputs": [
    {
     "data": {
      "text/plain": [
       "array([0, 4, 8])"
      ]
     },
     "execution_count": 62,
     "metadata": {},
     "output_type": "execute_result"
    }
   ],
   "source": [
    "b.min(axis=1) "
   ]
  },
  {
   "cell_type": "code",
   "execution_count": 63,
   "id": "da042124-8c4f-4c02-b3b8-e385d405f995",
   "metadata": {},
   "outputs": [
    {
     "data": {
      "text/plain": [
       "array([[ 0,  1,  3,  6],\n",
       "       [ 4,  9, 15, 22],\n",
       "       [ 8, 17, 27, 38]])"
      ]
     },
     "execution_count": 63,
     "metadata": {},
     "output_type": "execute_result"
    }
   ],
   "source": [
    "b.cumsum(axis=1)  # 每一行的累积和"
   ]
  },
  {
   "cell_type": "code",
   "execution_count": 67,
   "id": "3f6c8601-3202-4986-abe8-2cef710fe7e4",
   "metadata": {},
   "outputs": [
    {
     "data": {
      "text/plain": [
       "(array([[[ 0,  1,  2,  3],\n",
       "         [ 4,  5,  6,  7],\n",
       "         [ 8,  9, 10, 11]],\n",
       " \n",
       "        [[12, 13, 14, 15],\n",
       "         [16, 17, 18, 19],\n",
       "         [20, 21, 22, 23]]]),\n",
       " array([[1, 1, 1, 1],\n",
       "        [1, 1, 1, 1],\n",
       "        [1, 1, 1, 1]]),\n",
       " array([[2, 2, 2, 2],\n",
       "        [2, 2, 2, 2]]),\n",
       " array([[3, 3, 3],\n",
       "        [3, 3, 3]]))"
      ]
     },
     "execution_count": 67,
     "metadata": {},
     "output_type": "execute_result"
    }
   ],
   "source": [
    "c = np.arange(24).reshape(2, 3, 4)\n",
    "c, c.argmax(axis=0), c.argmax(axis=1), c.argmax(axis=2)"
   ]
  },
  {
   "cell_type": "code",
   "execution_count": 68,
   "id": "1e339c3a-e9f2-4035-88aa-8e899b7d486f",
   "metadata": {},
   "outputs": [
    {
     "data": {
      "text/plain": [
       "array([[10, 20],\n",
       "       [30, 40]])"
      ]
     },
     "execution_count": 68,
     "metadata": {},
     "output_type": "execute_result"
    }
   ],
   "source": [
    "A = np.array([[1, 2], [3, 4]])\n",
    "B = np.array([10])\n",
    "A * B  # 广播机制"
   ]
  },
  {
   "cell_type": "code",
   "execution_count": 69,
   "id": "e084d49d-4242-46ae-859f-2452c81b00c5",
   "metadata": {},
   "outputs": [
    {
     "name": "stdout",
     "output_type": "stream",
     "text": [
      "(2,)\n"
     ]
    },
    {
     "data": {
      "text/plain": [
       "array([[10, 40],\n",
       "       [30, 80]])"
      ]
     },
     "execution_count": 69,
     "metadata": {},
     "output_type": "execute_result"
    }
   ],
   "source": [
    "A = np.array([[1, 2], [3, 4]])\n",
    "B = np.array([10, 20])\n",
    "print(B.shape)\n",
    "A * B"
   ]
  },
  {
   "cell_type": "code",
   "execution_count": 72,
   "id": "00b39d10-0a04-4feb-9fcd-02f25059f1f6",
   "metadata": {},
   "outputs": [
    {
     "data": {
      "text/plain": [
       "(array([0, 1, 2]),\n",
       " array([1.        , 2.71828183, 7.3890561 ]),\n",
       " array([0.        , 1.        , 1.41421356]))"
      ]
     },
     "execution_count": 72,
     "metadata": {},
     "output_type": "execute_result"
    }
   ],
   "source": [
    "B = np.arange(3)\n",
    "B, np.exp(B), np.sqrt(B)"
   ]
  },
  {
   "cell_type": "code",
   "execution_count": 73,
   "id": "7fbe4182-a977-442f-afc8-9ac3ff3b52b4",
   "metadata": {},
   "outputs": [
    {
     "data": {
      "text/plain": [
       "array([2., 0., 6.])"
      ]
     },
     "execution_count": 73,
     "metadata": {},
     "output_type": "execute_result"
    }
   ],
   "source": [
    "C = np.array([2., -1., 4.])\n",
    "np.add(B, C) "
   ]
  },
  {
   "cell_type": "code",
   "execution_count": 74,
   "id": "f1a811c9-e4e7-4d93-bb5b-7c591c9026dd",
   "metadata": {},
   "outputs": [
    {
     "data": {
      "text/plain": [
       "array([  0,   1,   8,  27,  64, 125, 216, 343, 512, 729])"
      ]
     },
     "execution_count": 74,
     "metadata": {},
     "output_type": "execute_result"
    }
   ],
   "source": [
    "a = np.arange(10)**3\n",
    "a"
   ]
  },
  {
   "cell_type": "code",
   "execution_count": 75,
   "id": "f06c96a8-357e-4a59-ba5e-f292702e2192",
   "metadata": {},
   "outputs": [
    {
     "data": {
      "text/plain": [
       "np.int64(8)"
      ]
     },
     "execution_count": 75,
     "metadata": {},
     "output_type": "execute_result"
    }
   ],
   "source": [
    "a[2]"
   ]
  },
  {
   "cell_type": "code",
   "execution_count": 76,
   "id": "3747dd74-576b-4e16-9e6e-a996806c68e7",
   "metadata": {},
   "outputs": [
    {
     "data": {
      "text/plain": [
       "array([ 8, 27, 64])"
      ]
     },
     "execution_count": 76,
     "metadata": {},
     "output_type": "execute_result"
    }
   ],
   "source": [
    "a[2:5]"
   ]
  },
  {
   "cell_type": "code",
   "execution_count": 77,
   "id": "b82988bb-b68d-4b37-a4a0-dfac2905b99e",
   "metadata": {},
   "outputs": [
    {
     "data": {
      "text/plain": [
       "array([-1000,     1, -1000,    27, -1000,   125,   216,   343,   512,\n",
       "         729])"
      ]
     },
     "execution_count": 77,
     "metadata": {},
     "output_type": "execute_result"
    }
   ],
   "source": [
    "a[:6:2] = -1000\n",
    "a"
   ]
  },
  {
   "cell_type": "code",
   "execution_count": 78,
   "id": "751c04e9-30ae-406f-820c-cdc4cc2c808d",
   "metadata": {},
   "outputs": [
    {
     "data": {
      "text/plain": [
       "array([  729,   512,   343,   216,   125, -1000,    27, -1000,     1,\n",
       "       -1000])"
      ]
     },
     "execution_count": 78,
     "metadata": {},
     "output_type": "execute_result"
    }
   ],
   "source": [
    "a[::-1]"
   ]
  },
  {
   "cell_type": "code",
   "execution_count": 80,
   "id": "5096274c-2147-479f-8d01-3b9b6678727e",
   "metadata": {},
   "outputs": [
    {
     "data": {
      "text/plain": [
       "array([ 1, 27])"
      ]
     },
     "execution_count": 80,
     "metadata": {},
     "output_type": "execute_result"
    }
   ],
   "source": [
    "a[[1,3]]"
   ]
  },
  {
   "cell_type": "code",
   "execution_count": 81,
   "id": "b94798b9-b426-4074-9722-3eb978906378",
   "metadata": {},
   "outputs": [
    {
     "name": "stdout",
     "output_type": "stream",
     "text": [
      "0.0\n",
      "1.0\n",
      "2.0\n",
      "3.0\n",
      "3.9999999999999996\n",
      "5.0\n",
      "5.999999999999999\n",
      "6.999999999999999\n",
      "7.999999999999999\n",
      "8.999999999999998\n"
     ]
    }
   ],
   "source": [
    "a = np.arange(10)**3\n",
    "for i in a:\n",
    "    print(i**(1/3.))"
   ]
  },
  {
   "cell_type": "code",
   "execution_count": 82,
   "id": "99058239-9f37-4439-9e53-ae3ae53d53cd",
   "metadata": {},
   "outputs": [
    {
     "data": {
      "text/plain": [
       "array([[ 0,  1,  2,  3],\n",
       "       [10, 11, 12, 13],\n",
       "       [20, 21, 22, 23],\n",
       "       [30, 31, 32, 33],\n",
       "       [40, 41, 42, 43]])"
      ]
     },
     "execution_count": 82,
     "metadata": {},
     "output_type": "execute_result"
    }
   ],
   "source": [
    "def f(x, y):\n",
    "    return 10 * x + y\n",
    "\n",
    "# https://numpy.org/doc/stable/reference/generated/numpy.fromfunction.html\n",
    "b = np.fromfunction(f, (5, 4), dtype=int)\n",
    "b"
   ]
  },
  {
   "cell_type": "code",
   "execution_count": 83,
   "id": "c6025f48-2c08-4f79-8ccd-c075750d8179",
   "metadata": {},
   "outputs": [
    {
     "data": {
      "text/plain": [
       "np.int64(23)"
      ]
     },
     "execution_count": 83,
     "metadata": {},
     "output_type": "execute_result"
    }
   ],
   "source": [
    "b[2, 3]"
   ]
  },
  {
   "cell_type": "code",
   "execution_count": 84,
   "id": "19dd1dfe-3077-4da6-8b7a-edf97defadc0",
   "metadata": {},
   "outputs": [
    {
     "data": {
      "text/plain": [
       "array([ 1, 11, 21, 31, 41])"
      ]
     },
     "execution_count": 84,
     "metadata": {},
     "output_type": "execute_result"
    }
   ],
   "source": [
    "b[0:5, 1]"
   ]
  },
  {
   "cell_type": "code",
   "execution_count": 85,
   "id": "6cb12803-ca66-4153-b67b-463f12ea92cc",
   "metadata": {},
   "outputs": [
    {
     "data": {
      "text/plain": [
       "array([ 1, 11, 21, 31, 41])"
      ]
     },
     "execution_count": 85,
     "metadata": {},
     "output_type": "execute_result"
    }
   ],
   "source": [
    "b[:, 1] "
   ]
  },
  {
   "cell_type": "code",
   "execution_count": 86,
   "id": "275339e7-0f47-4e38-88c7-ea5bd21880dd",
   "metadata": {},
   "outputs": [
    {
     "data": {
      "text/plain": [
       "array([[10, 11, 12, 13],\n",
       "       [20, 21, 22, 23]])"
      ]
     },
     "execution_count": 86,
     "metadata": {},
     "output_type": "execute_result"
    }
   ],
   "source": [
    "b[1:3, :] "
   ]
  },
  {
   "cell_type": "code",
   "execution_count": 87,
   "id": "56e317e0-354d-4388-b7e7-fc8335120bdf",
   "metadata": {},
   "outputs": [
    {
     "data": {
      "text/plain": [
       "array([40, 41, 42, 43])"
      ]
     },
     "execution_count": 87,
     "metadata": {},
     "output_type": "execute_result"
    }
   ],
   "source": [
    "b[-1] "
   ]
  },
  {
   "cell_type": "code",
   "execution_count": 88,
   "id": "86c224d3-9657-4358-8d24-0fa19ef8f0ca",
   "metadata": {},
   "outputs": [
    {
     "data": {
      "text/plain": [
       "(2, 2, 3)"
      ]
     },
     "execution_count": 88,
     "metadata": {},
     "output_type": "execute_result"
    }
   ],
   "source": [
    "c = np.array( [[[  0,  1,  2],\n",
    "                [ 10, 12, 13]],\n",
    "               [[100,101,102],\n",
    "                [110,112,113]]])\n",
    "c.shape    "
   ]
  },
  {
   "cell_type": "code",
   "execution_count": 89,
   "id": "11029f08-4565-4e96-a7af-93c50e563b41",
   "metadata": {},
   "outputs": [
    {
     "data": {
      "text/plain": [
       "array([[100, 101, 102],\n",
       "       [110, 112, 113]])"
      ]
     },
     "execution_count": 89,
     "metadata": {},
     "output_type": "execute_result"
    }
   ],
   "source": [
    "c[1,...]  # 三个点（ ... ）表示产生完整索引元组所需的冒号。相当于 c[1,:,:] 或 c[1]"
   ]
  },
  {
   "cell_type": "code",
   "execution_count": 90,
   "id": "893a0998-4f83-491b-ba39-5e45b6364e61",
   "metadata": {},
   "outputs": [
    {
     "data": {
      "text/plain": [
       "array([[  2,  13],\n",
       "       [102, 113]])"
      ]
     },
     "execution_count": 90,
     "metadata": {},
     "output_type": "execute_result"
    }
   ],
   "source": [
    "c[...,2]"
   ]
  },
  {
   "cell_type": "code",
   "execution_count": 91,
   "id": "f8660463-0fb3-451c-9c23-b6a1de149760",
   "metadata": {},
   "outputs": [
    {
     "data": {
      "text/plain": [
       "(2, 2, 3)"
      ]
     },
     "execution_count": 91,
     "metadata": {},
     "output_type": "execute_result"
    }
   ],
   "source": [
    "c[...,].shape"
   ]
  },
  {
   "cell_type": "code",
   "execution_count": 94,
   "id": "450949af-cbe1-49fa-9c63-ec3541227e0b",
   "metadata": {},
   "outputs": [
    {
     "name": "stdout",
     "output_type": "stream",
     "text": [
      "[-1, 3, 4, 5] [-1, 3, 4, 5]\n"
     ]
    }
   ],
   "source": [
    "list1 = [2, 3, 4, 5]\n",
    "list2 = list1       # list1和list2共享引用\n",
    "list2[0] = -1\n",
    "print(list1, list2)"
   ]
  },
  {
   "cell_type": "code",
   "execution_count": 100,
   "id": "43461237-1c97-4630-a942-9dcd013e749f",
   "metadata": {},
   "outputs": [
    {
     "name": "stdout",
     "output_type": "stream",
     "text": [
      "[2, 3, 4, 5] [-1, 3, 4, 5]\n"
     ]
    }
   ],
   "source": [
    "list1 = [2, 3, 4, 5]\n",
    "list2 = list1[:]    # 对列表切片返回副本, list2这时是list1的副本\n",
    "list2[0] = -1\n",
    "print(list1, list2)"
   ]
  },
  {
   "cell_type": "code",
   "execution_count": 101,
   "id": "f109f8fe-56bd-40c7-a1fc-c344d8bc0a2e",
   "metadata": {},
   "outputs": [
    {
     "name": "stdout",
     "output_type": "stream",
     "text": [
      "[[ 0  1  2  3]\n",
      " [ 4  5  6  7]\n",
      " [ 8  9 10 11]]\n",
      "[0 1 2 3]\n"
     ]
    }
   ],
   "source": [
    "a = np.arange(12).reshape(3, 4)\n",
    "b = a[0,:]          # 对numpy数组切片返回视图\n",
    "print(a)\n",
    "print(b)"
   ]
  },
  {
   "cell_type": "code",
   "execution_count": 102,
   "id": "e7c43cf0-39da-47a5-9fb4-9d755523816d",
   "metadata": {},
   "outputs": [
    {
     "name": "stdout",
     "output_type": "stream",
     "text": [
      "[[99  1  2  3]\n",
      " [ 4  5  6  7]\n",
      " [ 8  9 10 11]]\n"
     ]
    }
   ],
   "source": [
    "b[0] = 99\n",
    "print(a)"
   ]
  },
  {
   "cell_type": "code",
   "execution_count": 104,
   "id": "47b22493-3fc5-45c9-a5fa-a68f2ad90b82",
   "metadata": {},
   "outputs": [
    {
     "name": "stdout",
     "output_type": "stream",
     "text": [
      "[[ 0  1  2  3]\n",
      " [ 4  5  6  7]\n",
      " [ 8  9 10 11]]\n",
      "[99  1  2  3]\n"
     ]
    }
   ],
   "source": [
    "a = np.arange(12).reshape(3, 4)\n",
    "b = a[0,:].copy() # 返回副本\n",
    "b[0] = 99\n",
    "print(a)\n",
    "print(b)"
   ]
  },
  {
   "cell_type": "code",
   "execution_count": 105,
   "id": "f6019609-3a18-4e8e-a427-6bb344abf20d",
   "metadata": {},
   "outputs": [
    {
     "name": "stdout",
     "output_type": "stream",
     "text": [
      "[0 1 2 3]\n",
      "\n",
      "[4 5 6 7]\n",
      "\n",
      "[ 8  9 10 11]\n",
      "\n"
     ]
    }
   ],
   "source": [
    "b = np.arange(12).reshape(3, 4)\n",
    "for row in b:\n",
    "    print(row, end='\\n\\n')"
   ]
  },
  {
   "cell_type": "code",
   "execution_count": 106,
   "id": "f619fe1f-894f-4c04-975c-9419f655dada",
   "metadata": {},
   "outputs": [
    {
     "name": "stdout",
     "output_type": "stream",
     "text": [
      "[[ 0  1  2  3]\n",
      " [ 4  5  6  7]\n",
      " [ 8  9 10 11]]\n",
      "\n",
      "[[12 13 14 15]\n",
      " [16 17 18 19]\n",
      " [20 21 22 23]]\n",
      "\n"
     ]
    }
   ],
   "source": [
    "c = np.arange(24).reshape(2, 3, 4)\n",
    "for row in c:\n",
    "    print(row, end='\\n\\n')"
   ]
  },
  {
   "cell_type": "code",
   "execution_count": 107,
   "id": "c2c08470-0b3f-4ac9-9e57-71f30efffca5",
   "metadata": {},
   "outputs": [
    {
     "name": "stdout",
     "output_type": "stream",
     "text": [
      "0\n",
      "1\n",
      "2\n",
      "3\n",
      "4\n",
      "5\n",
      "6\n",
      "7\n",
      "8\n",
      "9\n",
      "10\n",
      "11\n"
     ]
    }
   ],
   "source": [
    "for element in b.flat:  # 如果想要对数组中的每个元素执行操作，可以使用 flat 属性，该属性是数组中所有元素的迭代器：\n",
    "    print(element)"
   ]
  },
  {
   "cell_type": "code",
   "execution_count": 108,
   "id": "2a558923-5236-4d61-b27b-7999fed970dd",
   "metadata": {},
   "outputs": [
    {
     "name": "stdout",
     "output_type": "stream",
     "text": [
      "0\n",
      "1\n",
      "2\n",
      "3\n",
      "4\n",
      "5\n",
      "6\n",
      "7\n",
      "8\n",
      "9\n",
      "10\n",
      "11\n"
     ]
    },
    {
     "data": {
      "text/plain": [
       "array([ 0,  1,  2,  3,  4,  5,  6,  7,  8,  9, 10, 11])"
      ]
     },
     "execution_count": 108,
     "metadata": {},
     "output_type": "execute_result"
    }
   ],
   "source": [
    "# 或者使用 flatten() 方法将数组转换为一维数组，然后进行迭代：\n",
    "for element in b.flatten():\n",
    "    print(element)\n",
    "b.flatten()"
   ]
  },
  {
   "cell_type": "code",
   "execution_count": 110,
   "id": "abfed75c-a4bf-42d2-8a6d-52e11088050b",
   "metadata": {},
   "outputs": [
    {
     "name": "stdout",
     "output_type": "stream",
     "text": [
      "10\n",
      "11\n",
      "12\n",
      "13\n",
      "14\n",
      "15\n"
     ]
    },
    {
     "data": {
      "text/plain": [
       "<numpy.nditer at 0x2c132f818b0>"
      ]
     },
     "execution_count": 110,
     "metadata": {},
     "output_type": "execute_result"
    }
   ],
   "source": [
    "# numpy.nditer 提供了一种迭代访问多维数组元素的方式：\n",
    "a = np.arange(10, 16).reshape(2,3)\n",
    "for x in np.nditer(a):\n",
    "    print(x)\n",
    "np.nditer(a)"
   ]
  },
  {
   "cell_type": "code",
   "execution_count": 113,
   "id": "cc8d57bc-7c77-4a77-97bf-464bf923091f",
   "metadata": {},
   "outputs": [
    {
     "name": "stdout",
     "output_type": "stream",
     "text": [
      "0 10\n",
      "1 11\n",
      "2 12\n",
      "3 13\n",
      "4 14\n",
      "5 15\n"
     ]
    }
   ],
   "source": [
    "it = np.nditer(a, flags=['c_index']) # 创建迭代器，flags=['c_index'] 表示使用 C 顺序的索引\n",
    "while not it.finished:\n",
    "    print(it.index, it.value) # 打印当前索引和值\n",
    "    it.iternext() # 移动到下一个元素，直到 it.finished 为 True。"
   ]
  },
  {
   "cell_type": "code",
   "execution_count": 114,
   "id": "1a4f86e6-5e64-4176-841a-ff0eb03c2ef8",
   "metadata": {},
   "outputs": [
    {
     "name": "stdout",
     "output_type": "stream",
     "text": [
      "(0, 0) 10\n",
      "(0, 1) 11\n",
      "(0, 2) 12\n",
      "(1, 0) 13\n",
      "(1, 1) 14\n",
      "(1, 2) 15\n"
     ]
    }
   ],
   "source": [
    "it = np.nditer(a, flags=['multi_index'])   # 'multi_index'：获取多维索引（如 (0, 0)、(0, 1)）。\n",
    "while not it.finished:\n",
    "    print(it.multi_index, it.value)\n",
    "    it.iternext()"
   ]
  },
  {
   "cell_type": "code",
   "execution_count": 115,
   "id": "7372a7cc-c276-4b25-9c7e-fe1924a8846b",
   "metadata": {},
   "outputs": [
    {
     "data": {
      "text/plain": [
       "(array([[ 0,  1,  2,  3],\n",
       "        [ 4,  5,  6,  7],\n",
       "        [ 8,  9, 10, 11]]),\n",
       " (3, 4))"
      ]
     },
     "execution_count": 115,
     "metadata": {},
     "output_type": "execute_result"
    }
   ],
   "source": [
    "arr = np.arange(12).reshape(3,4)\n",
    "arr, arr.shape"
   ]
  },
  {
   "cell_type": "code",
   "execution_count": 116,
   "id": "9c27fb67-7a81-4fd1-89c4-dfb687fcb198",
   "metadata": {},
   "outputs": [
    {
     "data": {
      "text/plain": [
       "(array([ 0,  1,  2,  3,  4,  5,  6,  7,  8,  9, 10, 11]),\n",
       " array([[ 0,  1],\n",
       "        [ 2,  3],\n",
       "        [ 4,  5],\n",
       "        [ 6,  7],\n",
       "        [ 8,  9],\n",
       "        [10, 11]]),\n",
       " array([[ 0,  4,  8],\n",
       "        [ 1,  5,  9],\n",
       "        [ 2,  6, 10],\n",
       "        [ 3,  7, 11]]),\n",
       " (4, 3))"
      ]
     },
     "execution_count": 116,
     "metadata": {},
     "output_type": "execute_result"
    }
   ],
   "source": [
    "arr.ravel(), arr.reshape(6, 2), arr.T, arr.T.shape"
   ]
  },
  {
   "cell_type": "code",
   "execution_count": 117,
   "id": "6760cc2c-f64f-49f2-9696-c416c1c0ae43",
   "metadata": {},
   "outputs": [
    {
     "name": "stdout",
     "output_type": "stream",
     "text": [
      "(3, 4)\n"
     ]
    },
    {
     "data": {
      "text/plain": [
       "array([[ 0,  1,  2],\n",
       "       [ 3,  4,  5],\n",
       "       [ 6,  7,  8],\n",
       "       [ 9, 10, 11]])"
      ]
     },
     "execution_count": 117,
     "metadata": {},
     "output_type": "execute_result"
    }
   ],
   "source": [
    "print(arr.shape)\n",
    "arr.reshape(4, -1)"
   ]
  },
  {
   "cell_type": "markdown",
   "id": "1c742e28-4ab3-4218-8306-b3309cc033ae",
   "metadata": {},
   "source": [
    "#### ravel() 与 flatten()：\n",
    "在 NumPy 中，ravel() 和 flatten() 都是用于将多维数组展平（变成一维数组）的方法，但它们在内存处理和返回结果上有重要区别：\n",
    "\n",
    "ravel():\n",
    "* 返回视图（view）（如果可能）, 不复制数据（除非原数组内存不连续，如转置后的数组）。\n",
    "* 比 flatten() 更快，因为不创建副本。\n",
    "* 如果原数组是 C 连续（order='C'），则 ravel() 会返回 C 顺序的一维数组；如果是 F 连续（order='F'），则返回 F 顺序的一维数组。\n",
    "\n",
    "flatten():\n",
    "* 总是返回副本（copy），不会影响原数组。\n",
    "* 比 ravel() 慢，因为要分配新内存。\n",
    "* 默认按 'C'（行优先）顺序展平\n",
    "\n",
    "两者都支持 order 参数，控制展平的顺序：\n",
    "* 'C'（默认）：按行展平（C 顺序，行优先）。\n",
    "* 'F'：按列展平（Fortran 顺序，列优先）。\n",
    "* 'A'：保持原数组的内存顺序（尽量不转置）。\n",
    "* 'K'：按元素在内存中的出现顺序展平（尽量保持原顺序）"
   ]
  },
  {
   "cell_type": "code",
   "execution_count": 118,
   "id": "c47b2ed9-a3c0-48a5-906f-aee0a0784cd3",
   "metadata": {},
   "outputs": [
    {
     "name": "stdout",
     "output_type": "stream",
     "text": [
      "[ 0  1  2  3  4  5  6  7  8  9 10 11]\n",
      "[ 0  1  2  3  4  5  6  7  8  9 10 11]\n"
     ]
    }
   ],
   "source": [
    "second = arr.ravel() \n",
    "print(second)\n",
    "third = arr.flatten() \n",
    "print(third)"
   ]
  },
  {
   "cell_type": "code",
   "execution_count": 119,
   "id": "b43b8491-f5cf-4358-9100-3d493cc78d35",
   "metadata": {},
   "outputs": [
    {
     "name": "stdout",
     "output_type": "stream",
     "text": [
      "[[88  1  2  3]\n",
      " [ 4  5  6  7]\n",
      " [ 8  9 10 11]]\n"
     ]
    }
   ],
   "source": [
    "second[0] = 88\n",
    "print(arr)"
   ]
  },
  {
   "cell_type": "code",
   "execution_count": 120,
   "id": "92599ce0-df12-4553-96b7-980fa7269209",
   "metadata": {},
   "outputs": [
    {
     "name": "stdout",
     "output_type": "stream",
     "text": [
      "[[88  1  2  3]\n",
      " [ 4  5  6  7]\n",
      " [ 8  9 10 11]]\n"
     ]
    }
   ],
   "source": [
    "third[0] = 99\n",
    "print(arr)"
   ]
  },
  {
   "cell_type": "markdown",
   "id": "85fd1e3f-b665-4fef-a3da-04e45b4a327e",
   "metadata": {},
   "source": [
    "#### 堆叠数组"
   ]
  },
  {
   "cell_type": "code",
   "execution_count": 121,
   "id": "088be764-4050-46ad-b736-9bb4b0a8eece",
   "metadata": {},
   "outputs": [
    {
     "data": {
      "text/plain": [
       "(array([[0, 1, 2],\n",
       "        [3, 4, 5]]),\n",
       " array([[ 6,  7,  8],\n",
       "        [ 9, 10, 11]]))"
      ]
     },
     "execution_count": 121,
     "metadata": {},
     "output_type": "execute_result"
    }
   ],
   "source": [
    "a = np.arange(0,6).reshape(2,3)\n",
    "b = np.arange(6,12).reshape(2,3)\n",
    "a, b"
   ]
  },
  {
   "cell_type": "code",
   "execution_count": 122,
   "id": "360d502f-fa10-466e-86ab-2d2e296a18bb",
   "metadata": {},
   "outputs": [
    {
     "name": "stdout",
     "output_type": "stream",
     "text": [
      "(4, 3)\n",
      "[[ 0  1  2]\n",
      " [ 3  4  5]\n",
      " [ 6  7  8]\n",
      " [ 9 10 11]]\n"
     ]
    }
   ],
   "source": [
    "c = np.vstack((a,b))  # \n",
    "print(c.shape)\n",
    "print(c)"
   ]
  },
  {
   "cell_type": "code",
   "execution_count": 123,
   "id": "32699663-b478-465f-9f99-77c644ca1de3",
   "metadata": {},
   "outputs": [
    {
     "name": "stdout",
     "output_type": "stream",
     "text": [
      "(2, 6)\n",
      "[[ 0  1  2  6  7  8]\n",
      " [ 3  4  5  9 10 11]]\n"
     ]
    }
   ],
   "source": [
    "d = np.hstack((a,b))  #\n",
    "print(d.shape)\n",
    "print(d)"
   ]
  },
  {
   "cell_type": "code",
   "execution_count": 124,
   "id": "e4b18579-0063-4b46-853d-55f5f7172a63",
   "metadata": {},
   "outputs": [
    {
     "name": "stdout",
     "output_type": "stream",
     "text": [
      "(2, 3, 2)\n",
      "[[[ 0  6]\n",
      "  [ 1  7]\n",
      "  [ 2  8]]\n",
      "\n",
      " [[ 3  9]\n",
      "  [ 4 10]\n",
      "  [ 5 11]]]\n"
     ]
    }
   ],
   "source": [
    "e = np.dstack((a,b)) # \n",
    "print(e.shape)\n",
    "print(e)"
   ]
  },
  {
   "cell_type": "markdown",
   "id": "53600673-32ea-43a1-8450-7f16efbabfa0",
   "metadata": {},
   "source": [
    "####  随机数函数"
   ]
  },
  {
   "cell_type": "code",
   "execution_count": 125,
   "id": "d6d7786d-a137-47db-99b7-2a992307f7df",
   "metadata": {},
   "outputs": [],
   "source": [
    "np.random.seed(1234)    #设置随机种子为1234"
   ]
  },
  {
   "cell_type": "code",
   "execution_count": 126,
   "id": "2f6b01c8-077b-4834-b84b-9f70781aceac",
   "metadata": {},
   "outputs": [
    {
     "data": {
      "text/plain": [
       "array([[0.19151945, 0.62210877, 0.43772774],\n",
       "       [0.78535858, 0.77997581, 0.27259261]])"
      ]
     },
     "execution_count": 126,
     "metadata": {},
     "output_type": "execute_result"
    }
   ],
   "source": [
    "np.random.rand(2, 3)    # numpy.random.rand() 产生一个给定形状的数组，数组中的值服从 [0, 1)之间的均匀分布。"
   ]
  },
  {
   "cell_type": "code",
   "execution_count": 127,
   "id": "3bec94d1-71c8-4f86-9b71-5c186300d74a",
   "metadata": {},
   "outputs": [
    {
     "data": {
      "text/plain": [
       "array([[0.27646426, 0.80187218, 0.95813935],\n",
       "       [0.87593263, 0.35781727, 0.50099513]])"
      ]
     },
     "execution_count": 127,
     "metadata": {},
     "output_type": "execute_result"
    }
   ],
   "source": [
    "np.random.random((2,3)) #同上"
   ]
  },
  {
   "cell_type": "code",
   "execution_count": 128,
   "id": "0ce3e5e1-3185-4732-b16a-d65fe6bf8b84",
   "metadata": {},
   "outputs": [
    {
     "data": {
      "text/plain": [
       "array([[7.15116642, 7.41431824],\n",
       "       [4.33225679, 6.05076567],\n",
       "       [5.52774849, 1.12391605]])"
      ]
     },
     "execution_count": 128,
     "metadata": {},
     "output_type": "execute_result"
    }
   ],
   "source": [
    "np.random.uniform(1, 10, (3, 2)) # numpy.random.uniform(low=0.0, high=1.0, size=None) 返回一个在区间 [low, high) 中均匀分布的数组。"
   ]
  },
  {
   "cell_type": "code",
   "execution_count": 129,
   "id": "466d86de-ec07-4285-844f-d9259c8baf87",
   "metadata": {},
   "outputs": [
    {
     "data": {
      "text/plain": [
       "array([[ 0.40545341,  0.28909194],\n",
       "       [ 1.32115819, -1.54690555],\n",
       "       [-0.20264632, -0.65596934]])"
      ]
     },
     "execution_count": 129,
     "metadata": {},
     "output_type": "execute_result"
    }
   ],
   "source": [
    "np.random.randn(3, 2) # 数组中的值服从标准正态分布。"
   ]
  },
  {
   "cell_type": "code",
   "execution_count": 130,
   "id": "eb0fe20d-6377-4eaf-84f3-7ac0ebee2a20",
   "metadata": {},
   "outputs": [
    {
     "data": {
      "text/plain": [
       "array([[1.03868428, 1.11068778],\n",
       "       [1.26363031, 0.90613894],\n",
       "       [1.13511082, 0.63659455]])"
      ]
     },
     "execution_count": 130,
     "metadata": {},
     "output_type": "execute_result"
    }
   ],
   "source": [
    "np.random.normal(1, 0.2, (3, 2))\n",
    "# numpy.random.normal(loc=0.0, scale=1.0, size=None) 返回一个由size指定形状的数组，数组中的值服从 均值=loc, 标准差=scale的正态分布。"
   ]
  },
  {
   "cell_type": "code",
   "execution_count": 131,
   "id": "311235bb-c007-449f-9ed0-dbb391825e8b",
   "metadata": {},
   "outputs": [
    {
     "data": {
      "text/plain": [
       "array([[2, 8],\n",
       "       [5, 1],\n",
       "       [6, 2]], dtype=int32)"
      ]
     },
     "execution_count": 131,
     "metadata": {},
     "output_type": "execute_result"
    }
   ],
   "source": [
    "np.random.randint(1, 10, (3, 2))\n",
    "# numpy.random.randint(low, high=None, size=None, dtype='l') 返回一个在区间 [low, high)中离散均匀抽样的数组，size指定形状，dtype指定数据类型。"
   ]
  },
  {
   "cell_type": "code",
   "execution_count": 132,
   "id": "a11c21c2-2cec-4741-9b9c-abb7d03342dc",
   "metadata": {},
   "outputs": [
    {
     "data": {
      "text/plain": [
       "5"
      ]
     },
     "execution_count": 132,
     "metadata": {},
     "output_type": "execute_result"
    }
   ],
   "source": [
    "np.random.choice(9)\n",
    "# numpy.random.choice(a,size=None,replace=True,p=None) 若a为数组，则从a中选取元素；若a为单个int类型数，则选取range(a)中的数"
   ]
  },
  {
   "cell_type": "code",
   "execution_count": 133,
   "id": "8756ac0b-a26e-4c82-a052-6b2047ba0728",
   "metadata": {},
   "outputs": [
    {
     "data": {
      "text/plain": [
       "np.int64(2)"
      ]
     },
     "execution_count": 133,
     "metadata": {},
     "output_type": "execute_result"
    }
   ],
   "source": [
    "np.random.choice([0,2,4,6,8,10,12])"
   ]
  },
  {
   "cell_type": "markdown",
   "id": "5d50b7d1-77d8-4a95-9f81-a312b04a85ef",
   "metadata": {},
   "source": [
    "#### 存取操作\n",
    "NumPy 提供了存取数组内容的文件操作函数，存取数组数据的文件可以是二进制格式或者文本格式。\n",
    "\n",
    "tofile():将数组保存到文件\n",
    "* 默认以二进制格式存储（无分隔符，无元数据）。\n",
    "* 不保存数组形状或数据类型，仅存储原始数据（需手动记录）。\n",
    "* 比 np.save() 更底层，但兼容性较差。\n",
    "\n",
    "fromfile()：从文件加载数组\n",
    "* 必须明确知道数据的 dtype 和 shape，否则无法正确恢复数组。\n",
    "* 适用于由 tofile() 生成的文件。"
   ]
  },
  {
   "cell_type": "code",
   "execution_count": 156,
   "id": "9f955c58-95c2-455d-9fd7-9ca1fbc239d1",
   "metadata": {},
   "outputs": [
    {
     "data": {
      "text/plain": [
       "(dtype('int64'), None)"
      ]
     },
     "execution_count": 156,
     "metadata": {},
     "output_type": "execute_result"
    }
   ],
   "source": [
    "a = np.arange(12).reshape(3, 4)\n",
    "a.dtype, a.tofile('array.raw')"
   ]
  },
  {
   "cell_type": "code",
   "execution_count": 154,
   "id": "aebe4cd4-a7b5-46d0-a2eb-9b894e3fd11c",
   "metadata": {},
   "outputs": [
    {
     "data": {
      "text/plain": [
       "array([ 0,  1,  2,  3,  4,  5,  6,  7,  8,  9, 10, 11])"
      ]
     },
     "execution_count": 154,
     "metadata": {},
     "output_type": "execute_result"
    }
   ],
   "source": [
    "b = np.fromfile('array.raw', dtype=np.int64)\n",
    "b"
   ]
  },
  {
   "cell_type": "code",
   "execution_count": 155,
   "id": "8535fb4e-c6c1-40fb-ba24-43790ca8c681",
   "metadata": {},
   "outputs": [
    {
     "data": {
      "text/plain": [
       "array([[ 0,  1,  2,  3],\n",
       "       [ 4,  5,  6,  7],\n",
       "       [ 8,  9, 10, 11]])"
      ]
     },
     "execution_count": 155,
     "metadata": {},
     "output_type": "execute_result"
    }
   ],
   "source": [
    "b = np.fromfile('array.raw', dtype=np.int64).reshape(3, 4)\n",
    "b"
   ]
  },
  {
   "cell_type": "markdown",
   "id": "e3f89ec1-20e9-4f26-bf3a-c3bdfbdfd8a1",
   "metadata": {},
   "source": [
    "save()，load()\\\n",
    "它们用来存取 NumPy 专用的二进制格式保存数据（默认文件后缀名.npy），它们会自动处理元素类型和形状等信息。"
   ]
  },
  {
   "cell_type": "code",
   "execution_count": 157,
   "id": "c68cee49-2263-4af6-b432-d89445341152",
   "metadata": {},
   "outputs": [],
   "source": [
    "np.save('arr.npy', a)"
   ]
  },
  {
   "cell_type": "code",
   "execution_count": 158,
   "id": "10aa2f47-89b7-4958-a576-c3126d5648b2",
   "metadata": {},
   "outputs": [
    {
     "data": {
      "text/plain": [
       "array([[ 0,  1,  2,  3],\n",
       "       [ 4,  5,  6,  7],\n",
       "       [ 8,  9, 10, 11]])"
      ]
     },
     "execution_count": 158,
     "metadata": {},
     "output_type": "execute_result"
    }
   ],
   "source": [
    "c = np.load('arr.npy')\n",
    "c"
   ]
  },
  {
   "cell_type": "markdown",
   "id": "af40acd9-61d5-4681-a981-5ea7a170bf2f",
   "metadata": {},
   "source": [
    "savetxt()，loadtxt()\\\n",
    "只能存取一维或二维数组的文本文件, 可以用来读写csv格式文件"
   ]
  },
  {
   "cell_type": "code",
   "execution_count": 160,
   "id": "b58b738d-018d-4d65-a7b0-64addd572c80",
   "metadata": {},
   "outputs": [],
   "source": [
    "# 默认按照'%.18e'格式保存数值，空格分隔\n",
    "np.savetxt('a1.txt', a)"
   ]
  },
  {
   "cell_type": "code",
   "execution_count": 161,
   "id": "6188b643-33d3-4d4b-884d-c691d7fdb0ad",
   "metadata": {},
   "outputs": [
    {
     "data": {
      "text/plain": [
       "array([[ 0.,  1.,  2.,  3.],\n",
       "       [ 4.,  5.,  6.,  7.],\n",
       "       [ 8.,  9., 10., 11.]])"
      ]
     },
     "execution_count": 161,
     "metadata": {},
     "output_type": "execute_result"
    }
   ],
   "source": [
    "np.loadtxt('a1.txt')"
   ]
  },
  {
   "cell_type": "code",
   "execution_count": 162,
   "id": "b065a815-213e-4a2e-8b6f-9b1bdc9f4739",
   "metadata": {},
   "outputs": [],
   "source": [
    "np.savetxt('a2.txt', a, fmt='%d', delimiter=',')  # fmt='%d' 指定数据以整数格式保存\n",
    "# delimiter=',' 表示用逗号分隔各数值"
   ]
  },
  {
   "cell_type": "code",
   "execution_count": 165,
   "id": "5b3fc769-99f0-4ff2-b874-302b0ec7b41a",
   "metadata": {},
   "outputs": [
    {
     "data": {
      "text/plain": [
       "array([[ 0.,  1.,  2.,  3.],\n",
       "       [ 4.,  5.,  6.,  7.],\n",
       "       [ 8.,  9., 10., 11.]])"
      ]
     },
     "execution_count": 165,
     "metadata": {},
     "output_type": "execute_result"
    }
   ],
   "source": [
    "np.loadtxt('a2.txt', delimiter=',') # delimiter=',' 指定分隔符是逗号（需与保存时一致）"
   ]
  },
  {
   "cell_type": "markdown",
   "id": "9100c5b1-fc34-4090-8bfb-823429e85e90",
   "metadata": {},
   "source": [
    "#### 其它常用操作"
   ]
  },
  {
   "cell_type": "code",
   "execution_count": 166,
   "id": "654cf455-1322-48d5-85c5-a9d515a310c5",
   "metadata": {},
   "outputs": [
    {
     "name": "stdout",
     "output_type": "stream",
     "text": [
      "int64\n",
      "[[[ 0  1  2  3]\n",
      "  [ 4  5  6  7]\n",
      "  [ 8  9 10 11]]\n",
      "\n",
      " [[12 13 14 15]\n",
      "  [16 17 18 19]\n",
      "  [20 21 22 23]]]\n"
     ]
    }
   ],
   "source": [
    "arr = np.arange(24).reshape(2, 3, 4)\n",
    "print(arr.dtype)\n",
    "print(arr)"
   ]
  },
  {
   "cell_type": "code",
   "execution_count": 167,
   "id": "e4a52813-ad9e-4026-ada7-2350b6260bef",
   "metadata": {},
   "outputs": [
    {
     "name": "stdout",
     "output_type": "stream",
     "text": [
      "float64\n",
      "[[[ 0.  1.  2.  3.]\n",
      "  [ 4.  5.  6.  7.]\n",
      "  [ 8.  9. 10. 11.]]\n",
      "\n",
      " [[12. 13. 14. 15.]\n",
      "  [16. 17. 18. 19.]\n",
      "  [20. 21. 22. 23.]]]\n"
     ]
    }
   ],
   "source": [
    "b = arr.astype(np.float64)\n",
    "print(b.dtype)\n",
    "print(b)"
   ]
  },
  {
   "cell_type": "code",
   "execution_count": 168,
   "id": "7d82f0db-aba1-429c-ae8a-80719a753e87",
   "metadata": {},
   "outputs": [
    {
     "name": "stdout",
     "output_type": "stream",
     "text": [
      "(4, 3, 2)\n",
      "[[[ 0 12]\n",
      "  [ 4 16]\n",
      "  [ 8 20]]\n",
      "\n",
      " [[ 1 13]\n",
      "  [ 5 17]\n",
      "  [ 9 21]]\n",
      "\n",
      " [[ 2 14]\n",
      "  [ 6 18]\n",
      "  [10 22]]\n",
      "\n",
      " [[ 3 15]\n",
      "  [ 7 19]\n",
      "  [11 23]]]\n"
     ]
    }
   ],
   "source": [
    "print(arr.T.shape)\n",
    "print(arr.T)"
   ]
  },
  {
   "cell_type": "code",
   "execution_count": 169,
   "id": "6d263349-cec6-4b51-988a-47e97c52af7f",
   "metadata": {},
   "outputs": [
    {
     "data": {
      "text/plain": [
       "array([[[ 0, 12],\n",
       "        [ 4, 16],\n",
       "        [ 8, 20]],\n",
       "\n",
       "       [[ 1, 13],\n",
       "        [ 5, 17],\n",
       "        [ 9, 21]],\n",
       "\n",
       "       [[ 2, 14],\n",
       "        [ 6, 18],\n",
       "        [10, 22]],\n",
       "\n",
       "       [[ 3, 15],\n",
       "        [ 7, 19],\n",
       "        [11, 23]]])"
      ]
     },
     "execution_count": 169,
     "metadata": {},
     "output_type": "execute_result"
    }
   ],
   "source": [
    "arr.transpose(2, 1, 0)   # transpose() 可以完全重新排列数组的所有维度。参数是一个元组，表示新的维度顺序。\n",
    "# arr.transpose(2, 1, 0) 表示：原来的第 2 维（axis=2）变成新的第 0 维\n",
    "# 原来的第 1 维（axis=1）保持不变, 原来的第 0 维（axis=0）变成新的第 2 维"
   ]
  },
  {
   "cell_type": "code",
   "execution_count": 170,
   "id": "3975daac-5557-45a8-a873-01f1d4b931e7",
   "metadata": {},
   "outputs": [
    {
     "data": {
      "text/plain": [
       "array([[[ 0,  1,  2,  3],\n",
       "        [12, 13, 14, 15]],\n",
       "\n",
       "       [[ 4,  5,  6,  7],\n",
       "        [16, 17, 18, 19]],\n",
       "\n",
       "       [[ 8,  9, 10, 11],\n",
       "        [20, 21, 22, 23]]])"
      ]
     },
     "execution_count": 170,
     "metadata": {},
     "output_type": "execute_result"
    }
   ],
   "source": [
    "arr.swapaxes(0, 1)   # swapaxes() 用于交换两个指定的维度，其他维度保持不变。"
   ]
  },
  {
   "cell_type": "code",
   "execution_count": 172,
   "id": "771945ec-b40c-4fde-888a-7861280aaf10",
   "metadata": {},
   "outputs": [
    {
     "data": {
      "text/plain": [
       "(array([1, 1, 2, 3, 4, 5, 6, 7, 8, 8]), array([0, 1, 2, 3, 4, 5, 6, 7, 8, 9]))"
      ]
     },
     "execution_count": 172,
     "metadata": {},
     "output_type": "execute_result"
    }
   ],
   "source": [
    "a = np.arange(10)\n",
    "a.clip(1, 8), a  # clip() 不会修改原数组，而是返回一个新数组。\n",
    "# clip(min, max)：限制数组元素在 [min, max] 范围内\n",
    "# 所有 <min 的值被替换为 min, 所有 >max 的值被替换为 max"
   ]
  },
  {
   "cell_type": "code",
   "execution_count": 173,
   "id": "04bfe8c2-b936-42a8-8334-20f69303ac68",
   "metadata": {},
   "outputs": [
    {
     "data": {
      "text/plain": [
       "(array([3, 3, 3, 3, 4, 5, 6, 6, 6, 6]), array([3, 3, 3, 3, 4, 5, 6, 6, 6, 6]))"
      ]
     },
     "execution_count": 173,
     "metadata": {},
     "output_type": "execute_result"
    }
   ],
   "source": [
    "a.clip(3, 6, out=a), a"
   ]
  }
 ],
 "metadata": {
  "kernelspec": {
   "display_name": "Python 3 (ipykernel)",
   "language": "python",
   "name": "python3"
  },
  "language_info": {
   "codemirror_mode": {
    "name": "ipython",
    "version": 3
   },
   "file_extension": ".py",
   "mimetype": "text/x-python",
   "name": "python",
   "nbconvert_exporter": "python",
   "pygments_lexer": "ipython3",
   "version": "3.13.3"
  }
 },
 "nbformat": 4,
 "nbformat_minor": 5
}
